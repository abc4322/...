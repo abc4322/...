{
 "cells": [
  {
   "cell_type": "markdown",
   "id": "47d238c1",
   "metadata": {},
   "source": [
    "\n",
    "#### Resilience\n"
   ]
  },
  {
   "cell_type": "code",
   "execution_count": 516,
   "id": "06b2640d",
   "metadata": {},
   "outputs": [],
   "source": [
    "remove.commas.b.p <- function(value){\n",
    "  # get the substring between first ( and first ) if present, if not NA\n",
    "  chars.between.par <- ex_between(value, \"(\", \")\")[[1]]\n",
    "  chars.between.par.nc <- c(rep(NA, length(chars.between.par)))\n",
    "  for (par.case in 1:length(chars.between.par)){\n",
    "    if (grepl(\",\", chars.between.par[par.case])){\n",
    "      # remove commas between parentheses\n",
    "      chars.between.par.nc[par.case] <- gsub(',', '', chars.between.par[par.case])\n",
    "    }\n",
    "  }\n",
    "  value <- rm_between(value, \"(\", \")\", replacement = chars.between.par.nc)\n",
    "  value\n",
    "}"
   ]
  },
  {
   "cell_type": "code",
   "execution_count": 517,
   "id": "d76a675e",
   "metadata": {},
   "outputs": [],
   "source": [
    "scale.CD.RISC.10.synonyms <- c(\n",
    "  \"Connor-Davidson Resilience Scale (CD-RISC-10) (Connor & Davidson, 2003)\"\n",
    ")\n",
    "\n",
    "scale.BResS.synonyms <- c(\n",
    "  \"6-item Brief\\nResilience Scale (Smith et al. 2008)\", \"Brief Resilience Scale (Smith et al. 2008\",\n",
    "  \"Brief Resilience Scale (Smith et al. 2008)\"\n",
    ")\n"
   ]
  },
  {
   "cell_type": "markdown",
   "id": "2adaf75f",
   "metadata": {},
   "source": [
    "#### Mental health-related\n",
    "##### Including Subscales\n"
   ]
  },
  {
   "cell_type": "code",
   "execution_count": 518,
   "id": "671b5306",
   "metadata": {},
   "outputs": [],
   "source": [
    "scale.DASS.synonyms <- c(\n",
    "  \"Depression, Anxiety\\nand Stress Scale (DASS) 26\",\n",
    "  \"Depression Anxiety and Stress Scale (DASS) - Depression Subcale\",\n",
    "  \"Depression Anxiety and Stress Scale (DASS) - Anxiety Subcale\",\n",
    "  \"Depression Anxiety and Stress Scale [32] - depression subcale\",\n",
    "  \"Depression Anxiety and Stress Scale [32] - anxiety subcale\",\n",
    "  \"Depression Anxiety and Stress Scale [32] - stress subcale\",\n",
    "  \"Depression, Anxiety, and Stress Scale – 21 (DASS-21)\",\n",
    "  \"Depression Anxiety and Stress Scale (DASS)\",\n",
    "  \"Depression, Anxiety, and Stress Scale – 21 (DASS-21), subscale depression\",\n",
    "  \"Depression, Anxiety, and Stress Scale â€“ 21 (DASS-21), subscale depression\",\n",
    "  \"Depression, Anxiety, and Stress Scale – 21 (DASS-21), subscale anxiety\",\n",
    "  \"Depression, Anxiety, and Stress Scale â€“ 21 (DASS-21), subscale anxiety\",\n",
    "  \"Depression, Anxiety, and Stress Scale â€“ 21 (DASS-21),subscale stress\",\n",
    "  \"Depression Anxiety Stress Scales [DASS]; Lovibond and Lovibond 1995\",\n",
    "  \"Depression Anxiety Scale 21 (DASS21; Henry and Crawford 2005)\", \"Depression Anxiety Scale 21 (DASS21; Henry and Crawford 2005)\", \"Depression Anxiety Scale 21 (DASS21; Henry and Crawford 2005)\", \"Depression Anxiety and Stress Scale‐21 (DASS‐21; Antony Bieling Cox Enns & Swinson 1998)\", \"Depression Anxiety and Stress Scale‐21 (DASS‐21; Antony Bieling Cox Enns & Swinson 1998)\",\n",
    "  \"Depression Anxiety and Stress Scale‐21 (DASS‐21; Antony Bieling Cox Enns & Swinson 1998)\", \"Depression Anxiety Stress Scales (DASS-42)\", \"Depression Anxiety Stress Scales (DASS-42)\", \"Depression Anxiety Stress Scales (DASS-42)\", \"Depression Anxiety and Stress Scale – 21 (DASS-21) subscale depression\", \"Depression Anxiety and Stress Scale – 21 (DASS-21) subscale anxiety\", \"Depression Anxiety and Stress Scale – 21 (DASS-21) subscale stress\"\n",
    ")\n",
    "\n",
    "scale.POMS.synonyms <- c(\n",
    "  \"Profile of Mood States total mood disturbance main scale 23\",\n",
    "  \"Profile of Mood States anxiety subscale\",\n",
    "  \"Profile of Mood States depression subscale\",\n",
    "  \"Profile of Mood States (POMS)\",\n",
    "  \"Profile of Mood States-Short Form (POMS; McNair et al. 1971; Curran et al. 1995)\"\n",
    ")\n",
    "\n",
    "scale.DIPAS.ND.synonyms <- c(\n",
    "  \"Self-administered questionnaire to measure anxiety depression anger and sense of wellbeing developed and validated by he Defence Institute of Physiology and Allied Sciences New Delhi [13 see notes for source]\"\n",
    ")\n",
    "\n",
    "scale.HADS.synonyms <- c(\n",
    "  \"Hospital Anxiety and\\nDepression Scale–Anxiety Subscale (HADS-A; Zigmond and\\nSnaith 1983)\", \"Hospital Anxiety and Depression Scale–Anxiety Subscale (HADS-A; Zigmond and Snaith 1983)\"\n",
    ")\n",
    "\n",
    "scale.SCL.90.synonyms <- c(\n",
    "  \"Self Checklists-90 (SCL-90)\"\n",
    ")"
   ]
  },
  {
   "cell_type": "markdown",
   "id": "26c5655b",
   "metadata": {},
   "source": [
    "\n",
    "##### 2 Scales per Cell\n"
   ]
  },
  {
   "cell_type": "code",
   "execution_count": 519,
   "id": "ad5e05b0",
   "metadata": {},
   "outputs": [],
   "source": [
    "scales.DASS.PSS.synonyms <- c(\n",
    "  \"Depression, Anxiety\\nand Stress Scale (DASS) 26, Perceived Stress Scale\\n(PSS)27,28\",\n",
    "  \"Depression, Anxiety, and Stress Scale – 21 (DASS-21),\\nPerceived Stress Scale (PSS)\",\n",
    "  \"Depression, Anxiety, and Stress Scale – 21 (DASS-21),subscale stress\\nPerceived Stress Scale (PSS)\",\n",
    "  \"Depression, Anxiety, and Stress Scale â€“ 21 (DASS-21),subscale stress\\nPerceived Stress Scale (PSS)\",\n",
    "  \"Depression Anxiety and Stress Scale (DASS), Perceived Stress Scale (PSS)\"\n",
    ")\n",
    "\n",
    "scales.PSS.DASS.synonyms <- c(\n",
    "  \"Perceived Stress Scale (PSS), Depression Anxiety and Stress Scale (DASS) - Stress Subcale\"\n",
    ")\n",
    "\n",
    "scales.SOM.PSS.synonyms <- c(\n",
    "  \"Stress-O-Meter (SOM), Perceived Stress Scale (PSS)\"\n",
    ")\n",
    "\n",
    "scales.IPANAT.PANAS.synonyms <- c(\n",
    "  \"Implicit positive and negative affect task. IPANAT [29], Positive and negative affect schedule. The PANAS [30] \"\n",
    ")\n",
    "\n",
    "scales.SCS.VAS.synonyms <- c(\n",
    "  \"Self-Compassion Scale (SCS; Neff 2003b), visual analog scales (VAS)\"\n",
    ")\n"
   ]
  },
  {
   "cell_type": "markdown",
   "id": "8d2b2073",
   "metadata": {},
   "source": [
    "\n",
    "##### Anxiety\n"
   ]
  },
  {
   "cell_type": "code",
   "execution_count": 520,
   "id": "d7193a69",
   "metadata": {},
   "outputs": [],
   "source": [
    "scale.SAS.synonyms <- c(\n",
    "  \"Self-Rating Anxiety Scale (SAS) (Zung, 1971)\"\n",
    ")\n",
    "\n",
    "scale.STAI.synonyms <- c(\n",
    "  \"State Anxiety Scale from the State–Trait Anxiety Inventory (Spielberger, Gorsuch, Lushene, Vagg, & Jacobs, 1983)\",\n",
    "  \"State Anxiety Scale from the Stateâ€“Trait Anxiety Inventory (Spielberger, Gorsuch, Lushene, Vagg, & Jacobs, 1983)\",\n",
    "  \"State-Trait Anxiety Inventory (STAI)\",\n",
    "  \"State-Trait Anxiety Inventory (S-TAI) - state (SAI)\",\n",
    "  \"state-trait anxiety inventory (STAI) -  state anxiety\",\n",
    "  \"State-Trait Anxiety Inventory (STAI) - state subscale\",\n",
    "  \"State-Trait Anxiety Inventory (STAI) - trait subscale\",\n",
    "  \"State-Trait Anxiety Inventory (Spielberger, Gorsuch, & Lushene, 1970)\", \"State-Trait Anxiety Inventory for Adults (STAI; Spielberger 1983)\", \"State-Trait Anxiety Inventory for Adults (STAI; Spielberger 1983)\", \"State-Trait Anxiety Inventory (STAI form Y; Spielberger 1975)\", \"State-Trait Anxiety Scale (Marteau & Bekker, 1992)\", \"State-Trait Anxiety Scale (Marteau & Bekker, 1992)\", \"State-Trait Anxiety Inventory (STAI; Spielberger et al. 1983)\", \"State-Trait Anxiety Inventory (STAI; Spielberger et al. 1983)\", \"State-Trait Anxiety Inventory\", \"State Anxiety Scale from the State–Trait Anxiety Inventory (Spielberger Gorsuch Lushene Vagg & Jacobs 1983)\", \"State-Trait Anxiety Inventory (STAI-S; Spielberger et al. 1970)\", \"State/Trait Anxiety Inventory (STAI)\",\n",
    "  \"State Anxiety Scale of the STAI (Spielberger 1983)\", \"State-trait anxiety inventory short form (STAI-Y-6; Marteau and Bekker 1992)\",\n",
    "  \"State Anxiety Inventory (Marteau & Bekker 1992)\", \"State anxiety inventory scale (Marteau & Bekker 1992)\"\n",
    ")\n",
    "\n",
    "scale.STICSA.synonyms <- c(\n",
    "  \" State-Trait Inventory of Cognitive and Somatic Anxiety (STICSA)\"\n",
    ")\n",
    "\n",
    "scale.GAD.7.synonyms <- c(\n",
    "  \"Generalized Anxiety Disorder (GAD-7) subscale\", \"Generalized Anxiety Disorder 7-item scale (GAD-7; Spitzer et al. 2006)\"\n",
    ")\n",
    "\n",
    "scale.CAS.synonyms <- c(\n",
    "  \"College Adjustment Scales\"\n",
    ")"
   ]
  },
  {
   "cell_type": "markdown",
   "id": "7db7b202",
   "metadata": {},
   "source": [
    "\n",
    "##### Depression\n"
   ]
  },
  {
   "cell_type": "code",
   "execution_count": 521,
   "id": "f6731b1f",
   "metadata": {},
   "outputs": [],
   "source": [
    "scale.BDI.synonyms <- c(\n",
    "  \"Beck Depression Inventory (BDI [72])\",\n",
    "  \"Beck Depression Inventory (BDI)\"\n",
    ")\n",
    "\n",
    "scale.PHQ.9.synonyms <- c(\n",
    "  \"Patient Health Questionnaire-9 (PHQ-9; Kroenke & Spitzer, 2002)\",\n",
    "  \"Patient Health Questionnaire-9 (PHQ-9)\",\n",
    "  \" Patient Health Questionnaire-9 (PHQ-9)\"\n",
    ")\n",
    "\n",
    "scale.QIDS.SR.synonyms <- c(\n",
    "  \"Quick Inventory of Depressive Symptomatology Self-Report (QIDS-SR)\"\n",
    ")\n",
    "\n",
    "scale.SDS.synonyms <- c(\n",
    "  \"Self-Rating Depression Scale (SDS) (Zung et al., 1965)\"\n",
    ")\n",
    "\n",
    "scale.CES.D.synonyms <- c(\n",
    "  \"20-item Center for Epidemiological Studies\\nDepression Scale (CES-D; Radloff 1977)\",\n",
    "  \"Center for Epidemiological Studies Depression Scale (CES-D; Radloff 1977)\",\n",
    "  \"Center for Epidemiologic Studies Depression scale (CES-D)\"\n",
    ")\n"
   ]
  },
  {
   "cell_type": "markdown",
   "id": "cf4ced3f",
   "metadata": {},
   "source": [
    "\n",
    "##### Stress\n"
   ]
  },
  {
   "cell_type": "code",
   "execution_count": 522,
   "id": "b22d98ff",
   "metadata": {},
   "outputs": [],
   "source": [
    "scale.PSS.synonyms <- c(\n",
    "  \"Perceived Stress Scale (PSS; Cohen, Kamarck, & Mermelstein, 1983)\",\n",
    "  \"The Perceived Stress Scale (PSS)\",\n",
    "  \"Perceived Stress Scale (PSS).16\",\n",
    "  \"Perceived Stress Scale (PSS-10; Cohen, Kamarck, & Mermelstein, 1983)\",\n",
    "  \"Perceived Stress Scale (PSS)\",\n",
    "  \"Perceived Stress Scale (PSS) (Cohen et al., 1983)\",\n",
    "  \"Perceived Stress Scale (PSS) [58,59]\",\n",
    "  \"The Perceived Stress Scale (PSS; Cohen, Kamark, & Mermelstein, 1983)\",\n",
    "  \"Perceived Stress Scale (PSS; Cohen et al., 1994)\",\n",
    "  \"Perceived Stress Scale (PSS-10) (Cohen, 2017)\",\n",
    "  \"erceived Stress Scale (PSS [74])\",\n",
    "  \"Perceived Stress Scale (PSS; Cohen and Williamson 1988)\", \"Perceived Stress Scale (PSS; Cohen and Williamson 1988)\", \"Perceived Stress Scale (PSS; Cohen, Kamarck & Mermelstein 1983)\", \"Perceived Stress Scale (PSS; S. Cohen et al. 1983)\", \"Perceived Stress Scale (PSS; Cohen et al. 1983) \",\n",
    "  \"Perceived Stress Scale\"\n",
    ")\n",
    "\n",
    "scale.BRS.synonyms <- c(\n",
    "  \" Behavioral Relaxation Scale\"\n",
    ")\n",
    "\n",
    "scale.DSSQ.S.synonyms <- c(\n",
    "  \"Dundee Stress State Questionnaire (DSSQ-S; Matthews 2016)\"\n",
    ")\n",
    "\n",
    "scale.1.i.stress.synonyms <- c(\n",
    "  '1-item question “How stressed do you feel right now (at this present moment)?”'\n",
    ")\n",
    "\n",
    "scale.SIG.synonyms <- c(\n",
    "  'Stress in General Scale (SIG; Stanton et al. 2001)'\n",
    ")"
   ]
  },
  {
   "cell_type": "markdown",
   "id": "54aa91f3",
   "metadata": {},
   "source": [
    "\n",
    "##### Well-Being\n"
   ]
  },
  {
   "cell_type": "code",
   "execution_count": 523,
   "id": "5582a508",
   "metadata": {},
   "outputs": [],
   "source": [
    "scale.CPIwb.synonyms <- c(\n",
    "  \"California Psychological Inventroy (CPI), subscale sense of well-being\"\n",
    ")\n",
    "\n",
    "scale.LSS.synonyms <- c(\n",
    "  \"Questionnaire for the Assessment of Happiness ( ger.: Lebensglückskala, LSS) (Ciccarello & Reinhard, 2014)\",\n",
    "  \"Questionnaire for the Assessment of Happiness ( ger.: LebensglÃ¼ckskala, LSS) (Ciccarello & Reinhard, 2014)\"\n",
    ")\n",
    "\n",
    "scale.RAND.synonyms <- c(\n",
    "  \"RAND 36-Item Health Survey, concept emotional wellbeing\"\n",
    ")\n",
    "\n",
    "scale.SWLS.synonyms <- c(\n",
    "  \"Satisfaction with Life Scale (SWLS [71])\",\n",
    "  \"Satisfaction with Life Scale (SWLS)\",\n",
    "  \"satisfaction with life scale (SWLS; Diener et al., 1985)\",\n",
    "  \"Satisfaction with Life Scale\"\n",
    ")\n",
    "\n",
    "scale.WHO.QOL.BREF.synonyms <- c(\n",
    "  \"World Health Organization Quality of Life-Brief (WHO-QOL-BREF)\"\n",
    ")\n",
    "\n",
    "scale.SA.HDS.synonyms <- c(\n",
    "  \"Subjective Authentic-Durable Happiness Scale (SA-HDS; Dambrun et al., 2012)\"\n",
    ")\n",
    "\n",
    "scale.WEMWBS.synonyms <- c(\n",
    "  \"Warwick-Edinburgh Mental Wellbeing Scale (WEMWBS; Tennant et al.\\n2007)\"\n",
    ")\n",
    "\n",
    "scale.FS.synonyms <- c(\n",
    "  \"Flourishing Scale (Diener et al. 2010)\"\n",
    ")\n"
   ]
  },
  {
   "cell_type": "markdown",
   "id": "d5b298e0",
   "metadata": {},
   "source": [
    "#### Resilience Factors\n",
    "##### Active Coping\n"
   ]
  },
  {
   "cell_type": "code",
   "execution_count": 524,
   "id": "1cfda09d",
   "metadata": {},
   "outputs": [],
   "source": [
    "scale.COPE.synonyms <- c(\n",
    "  \"Coping Style (Brief COPE) (Brief COPE; Carver, 1997)\"\n",
    ")\n"
   ]
  },
  {
   "cell_type": "markdown",
   "id": "e7c73387",
   "metadata": {},
   "source": [
    "\n",
    "##### Cognitive Control\n"
   ]
  },
  {
   "cell_type": "code",
   "execution_count": 525,
   "id": "3bd39944",
   "metadata": {},
   "outputs": [],
   "source": [
    "scale.Stroop.synonyms <- c(\n",
    "  \"Stroop Task\"\n",
    ")\n"
   ]
  },
  {
   "cell_type": "markdown",
   "id": "8b1dd6f2",
   "metadata": {},
   "source": [
    "\n",
    "##### Coping, positive\n"
   ]
  },
  {
   "cell_type": "code",
   "execution_count": 526,
   "id": "578bc111",
   "metadata": {},
   "outputs": [],
   "source": [
    "scale.not.common.positive.coping.synonyms <- c(\n",
    "  \"scales adapted from a\\nwell-known set of brief measures developed by the Fetzer Institute (1999, pp. 86–87) - positve coping subscale\",\n",
    "  \"scales adapted from a\\nwell-known set of brief measures developed by the Fetzer Institute (1999, pp. 86â€“87) - positve coping subscale\"\n",
    ")\n"
   ]
  },
  {
   "cell_type": "markdown",
   "id": "1df47228",
   "metadata": {},
   "source": [
    "\n",
    "##### Empathy\n"
   ]
  },
  {
   "cell_type": "code",
   "execution_count": 527,
   "id": "a3b79d2d",
   "metadata": {},
   "outputs": [],
   "source": [
    "scale.BEA.synonyms <- c(\n",
    "  \"Batson Empathy Adjectives (BEA; Batson, 1986; Coke, Batson, & McDavis, 1978)\"\n",
    ")\n",
    "\n",
    "scale.JSE.synonyms <- c(\n",
    "  \"Jefferson Scale of Empathy (JSE; Hojat 2016a; Hojat et al. 2018; Thomas Jefferson University 2021a) \"\n",
    ")"
   ]
  },
  {
   "cell_type": "markdown",
   "id": "7255b9dd",
   "metadata": {},
   "source": [
    "\n",
    "##### Mindfulness\n"
   ]
  },
  {
   "cell_type": "code",
   "execution_count": 528,
   "id": "5fb46981",
   "metadata": {},
   "outputs": [],
   "source": [
    "scale.CAMS.R.synonyms <- c(\n",
    "  \"Cognitive and Affective Mindfulness Scale-Revised (CAMS-R)\",\n",
    "  \"Cognitive and Affective Mindfulness Scale-Revised (CAMS-R) - acceptace subscale\",\n",
    "  \"Cognitive and Affective Mindfulness Scale–Revised (CAMS-R; Feldman, Hayes, Kumar, Greeson, & Laurenceau, 2007)\",\n",
    "  \"Cognitive and Affective Mindfulness Scaleâ€“Revised (CAMS-R; Feldman, Hayes, Kumar, Greeson, & Laurenceau, 2007)\",\n",
    "  \"Cognitive and Affective Mindfulness Scale – Revised (CAMS-R)\",\n",
    "  \"Cognitive and Affective Mindfulness Scale â€“ Revised (CAMS-R)\",\n",
    "  \"Cognitive and Affective Mindfulness\\nScale-Revised (CAMS-R; Feldman et al., 2007)\",\n",
    "  \"12-item\\nCognitive Affective Mindfulness Scale–Revised (Feldman\\net al. 2007)\",\n",
    "  \"Cognitive Affective Mindfulness Scale–Revised (Feldman et al. 2007)\"\n",
    ")\n",
    "\n",
    "scale.FFMQ.synonyms <- c(\n",
    "  \"Five Factor Mindfulness Questionnaire (FFMQ) [60].\",  # mistake in paper --> Factor = Facet\n",
    "  \"Five Facet Mindfulness Questionnaire (FFMQ; Baer, Smith, Hopkins, Krietemeyer, & Toney, 2006)\",\n",
    "  \"Five Facet Mindfulness Questionnaire [FFMQ]; Baer et al. 2006\",\n",
    "  \"Five Facet Mindfulness Questionnaire (FFMQ)\", \"Mindfulness Questionnaire (FFMQ; Baer et al. 2006 2008)\", \"Five Facets Mindfulness Questionnaire (FFMQ; Baer et al. 2006)\"\n",
    ")\n",
    "\n",
    "scale.FMI.14.synonyms <- c(\n",
    "  \"Freiburg Mindfulness Inventory (FMI-14) (Buchheld & Walach, 2002)\",\n",
    "  \"Freiburg Mindfulness Inventory (FMI)\"\n",
    ")\n",
    "\n",
    "scale.KIMS.synonyms <- c(\n",
    "  \"Kentucky Inventory of Mindfulness Skills (KIMS; Baer et al., 2004)\",\n",
    "  \"Kentucky Inventory of Mindfulness Skills (KIMS; Baer et al. 2004)\"\n",
    ")\n",
    "\n",
    "scale.MAAS.synonyms <- c(\n",
    "  \"Mindfulness Attention Awareness Scale (MAAS) (Brown and Ryan (2003)\",\n",
    "  \"Mindfulness Attention Awareness Scale (MAAS) (Brown & Ryan, 2003)\",\n",
    "  \"mindful attention awareness scale (MAAS; Brown and Ryan, 2003)\",\n",
    "  \"Mindful Attention Awareness Scale (MAAS)\",\n",
    "  \"Mindfulness Attention Awareness Scale (MAAS; Brown & Ryan 2003)\", \"Mindfulness Attention Awareness Scale (MAAS)\",\n",
    "  \"Mindfulness Attention Awareness Scale (Brown & Ryan 2003)\"\n",
    ")\n",
    "\n",
    "scale.TMS.synonyms <- c(\n",
    "  \"The Toronto Mindfulness Scale (TMS)\",\n",
    "  \"Toronto Mindfulness Scale (TMS; Lau et al. 2006)\",\n",
    "  \"Toronto Mindfulness Scale\", \"Toronto Mindfulness Scale (TMS; Lau et al. 2006) \"\n",
    ")\n",
    "\n",
    "scale.SMS.synonyms <- c(\n",
    "  \"State Mindfulness Scale (SMS)\",\n",
    "  \"State Mindfulness Scale (Tanay & Bernstein 2013)\", \"State mindfulness scale (Tanay & Bernstein 2013)\"\n",
    ")\n"
   ]
  },
  {
   "cell_type": "markdown",
   "id": "563b7303",
   "metadata": {},
   "source": [
    "\n",
    "##### Positve Affect\n"
   ]
  },
  {
   "cell_type": "code",
   "execution_count": 529,
   "id": "ddfb53d8",
   "metadata": {},
   "outputs": [],
   "source": [
    "scale.PANAS.synonyms <- c(\n",
    "  \"Positive Affect Negative Affect Schedule (PANAS; Watson et al. 1988)\",\n",
    "  \"Positive and Negative Affect Scale – Positive Affect (PANAS-PA)\",\n",
    "  \"Positive Affect Negative Affect Scale (PANAS)\", \"Positive and Negative Affect Scale (PANAS; Watson et al. 1988)\",\n",
    "  \"Positive and Negative Affect Scale (PANAS)\",\n",
    "  \"Positive and Negative Affect Schedule (PANAS; Watson Clark and Tellegen 1988)\", \"Positive and Negative Affect Schedule (PANAS)\", \"Positive and Negative Affect Schedule (PANAS)\", \"Positive and Negative Affect Schedule (PANAS)\",\n",
    "  \"Positive and Negative Affect Schedule (PANAS; Watson, Clark, and Tellegen 1988)\"\n",
    ")\n",
    "\n",
    "scale.SPANE.synonyms <- c(\n",
    "  \"12-item Scale of Positive and Negative Experiences (SPANE; Diener et al. 2010)\"\n",
    ")\n",
    "\n",
    "scale.m.DES.synonyms <- c(\n",
    "  \"Modified Differential Emotions Scale (Fredrickson et al. 2003)\"\n",
    ")\n"
   ]
  },
  {
   "cell_type": "markdown",
   "id": "f6bc01ca",
   "metadata": {},
   "source": [
    "\n",
    "##### Positve Emotion\n"
   ]
  },
  {
   "cell_type": "code",
   "execution_count": 530,
   "id": "f2eba6e7",
   "metadata": {},
   "outputs": [],
   "source": [
    "scale.SHS.synonyms <- c(\n",
    "  \"Subjective Happiness Scale (SHS)\",\n",
    "  \"Subjective Happiness Scale (SHS; Lyubomirsky & Lepper 1999)\"\n",
    ")\n"
   ]
  },
  {
   "cell_type": "markdown",
   "id": "6e11f8f9",
   "metadata": {},
   "source": [
    "\n",
    "##### Psychological Capital\n"
   ]
  },
  {
   "cell_type": "code",
   "execution_count": 531,
   "id": "4ed065c2",
   "metadata": {},
   "outputs": [],
   "source": [
    "scale.PCQ.synonyms <- c(\n",
    "  \"Psychological Capital\\nQuestionnaire (PCQ) 19\"\n",
    ")\n"
   ]
  },
  {
   "cell_type": "markdown",
   "id": "2ec65671",
   "metadata": {},
   "source": [
    "\n",
    "##### Self-acceptance\n"
   ]
  },
  {
   "cell_type": "code",
   "execution_count": 532,
   "id": "f780d94e",
   "metadata": {},
   "outputs": [],
   "source": [
    "scale.CPIsa.synonyms <- c(\n",
    "  \"California Psychological Inventory French version (CPI) (Gough 1957) - Subscale Self-acceptance (Sa)\",\n",
    "  \"California Psychological Inventory French version (CPI)\"\n",
    ")\n"
   ]
  },
  {
   "cell_type": "markdown",
   "id": "bec2fbc8",
   "metadata": {},
   "source": [
    "\n",
    "##### Self-compassion\n"
   ]
  },
  {
   "cell_type": "code",
   "execution_count": 533,
   "id": "00f80e3b",
   "metadata": {},
   "outputs": [],
   "source": [
    "scale.SCS.synonyms <- c(\n",
    "  \"Self-Compassion Scale (SCS; Neff, 2003a)\"\n",
    ")\n",
    "\n",
    "scale.SCS.SF.synonyms <- c(\n",
    "  \"Self-Compassion Survey Short-Form (SCS-SF)\",\n",
    "  \"Self-Compassion Scale-Short Form (SCS-SF)\"\n",
    ")\n",
    "\n",
    "scale.SSCS.synonyms <- c(\n",
    "  \"State self-compassion scale (Breines & Chen, 2013)\"\n",
    ")\n"
   ]
  },
  {
   "cell_type": "markdown",
   "id": "b8d8f55a",
   "metadata": {},
   "source": [
    "##### Self-efficacy"
   ]
  },
  {
   "cell_type": "code",
   "execution_count": 534,
   "id": "b67a6c07",
   "metadata": {},
   "outputs": [],
   "source": [
    "scale.m.GSES.synonyms <- c(\n",
    "  \"modified version of the General Self-Efficacy Scale (GSES; Schwarzer & Jerusalem 1995)\"\n",
    ")\n"
   ]
  },
  {
   "cell_type": "markdown",
   "id": "fd107d69",
   "metadata": {},
   "source": [
    "\n",
    "##### Self-esteem\n"
   ]
  },
  {
   "cell_type": "code",
   "execution_count": 535,
   "id": "90589447",
   "metadata": {},
   "outputs": [],
   "source": [
    "scale.RSES.synonyms <- c(\n",
    "  \"Rosenberg Self-Esteem Scale (RSES; Rosenberg, 1965)\"\n",
    ")\n"
   ]
  },
  {
   "cell_type": "code",
   "execution_count": null,
   "id": "900de16b",
   "metadata": {},
   "outputs": [],
   "source": []
  }
 ],
 "metadata": {
  "kernelspec": {
   "display_name": "R",
   "language": "R",
   "name": "ir"
  },
  "language_info": {
   "codemirror_mode": "r",
   "file_extension": ".r",
   "mimetype": "text/x-r-source",
   "name": "R",
   "pygments_lexer": "r",
   "version": "4.3.0"
  },
  "toc": {
   "base_numbering": 1,
   "nav_menu": {},
   "number_sections": true,
   "sideBar": true,
   "skip_h1_title": false,
   "title_cell": "Table of Contents",
   "title_sidebar": "Contents",
   "toc_cell": false,
   "toc_position": {},
   "toc_section_display": true,
   "toc_window_display": false
  }
 },
 "nbformat": 4,
 "nbformat_minor": 5
}
